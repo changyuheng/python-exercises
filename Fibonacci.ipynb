{
 "cells": [
  {
   "cell_type": "markdown",
   "metadata": {},
   "source": [
    "Recursion"
   ]
  },
  {
   "cell_type": "code",
   "execution_count": 2,
   "metadata": {},
   "outputs": [
    {
     "name": "stdout",
     "output_type": "stream",
     "text": [
      "enter a number again: 100\n",
      "354224848179261915075\n"
     ]
    }
   ],
   "source": [
    "d = int(input('enter a number again: '))\n",
    "\n",
    "def _fib(a,b,last):\n",
    "    if last == 0:\n",
    "        return b\n",
    "    if last:\n",
    "        return _fib(b,a+b,last-1)\n",
    "\n",
    "def fib(d):\n",
    "    return _fib(0,1,d-1)\n",
    "\n",
    "print(fib(d))"
   ]
  }
 ],
 "metadata": {
  "kernelspec": {
   "display_name": "Python 3",
   "language": "python",
   "name": "python3"
  },
  "language_info": {
   "codemirror_mode": {
    "name": "ipython",
    "version": 3
   },
   "file_extension": ".py",
   "mimetype": "text/x-python",
   "name": "python",
   "nbconvert_exporter": "python",
   "pygments_lexer": "ipython3",
   "version": "3.6.1"
  }
 },
 "nbformat": 4,
 "nbformat_minor": 2
}
